{
 "cells": [
  {
   "cell_type": "markdown",
   "metadata": {},
   "source": [
    "# Example usage\n",
    "\n",
    "To use `linregmc` in a project:"
   ]
  },
  {
   "cell_type": "code",
   "execution_count": 3,
   "metadata": {},
   "outputs": [
    {
     "data": {
      "text/plain": [
       "(10000, 3)"
      ]
     },
     "execution_count": 3,
     "metadata": {},
     "output_type": "execute_result"
    }
   ],
   "source": [
    "import numpy as np\n",
    "import linregmc as mc\n",
    "\n",
    "x = np.array([0.1, 0.2, 0.3])\n",
    "y = np.array([1.2, 2.3, 3.7])\n",
    "ysig = np.array([0.1, 0.3, 0.2])\n",
    "y_mc = mc.addnoise(y, ysig)    # different stdev for the three points, normal distribution\n",
    "y_mc.shape     #verify that it's a matrix"
   ]
  },
  {
   "cell_type": "code",
   "execution_count": 9,
   "metadata": {},
   "outputs": [
    {
     "name": "stdout",
     "output_type": "stream",
     "text": [
      "  Slope is 12.393 with standard deviation 1.074\n",
      "  Intercept is -0.048 with standard deviation 0.177\n",
      "  Goodness-of-fit: 0.6355\n"
     ]
    }
   ],
   "source": [
    "pp,psig,pchi2,pmc = mc.linreg(x, y_mc)\n",
    "\n",
    "print('  Slope is %.3f with standard deviation %.3f'%(pp[0],psig[0]))\n",
    "print('  Intercept is %.3f with standard deviation %.3f'%(pp[1],psig[1]))\n",
    "print('  Goodness-of-fit: %.4f'%pchi2)"
   ]
  },
  {
   "cell_type": "code",
   "execution_count": 10,
   "metadata": {},
   "outputs": [
    {
     "name": "stdout",
     "output_type": "stream",
     "text": [
      "Results at pconf = 0.95\n",
      "  Slope is 12.393 +/- 2.122 \n",
      "    with a coverage of [10.237 14.473]\n",
      "  Intercept is -0.048 +/- 0.349\n",
      "    with a coverage of [-0.392 0.307]\n"
     ]
    }
   ],
   "source": [
    "err,confint = mc.confidence(pmc, 0.95)\n",
    "\n",
    "print('Results at pconf = 0.95')\n",
    "print('  Slope is %.3f +/- %.3f '%(pp[0],err[0]))\n",
    "print('    with a coverage of [%.3f %.3f]'%confint[0])\n",
    "print('  Intercept is %.3f +/- %.3f'%(pp[1],err[1]))\n",
    "print('    with a coverage of [%.3f %.3f]'%confint[1])\n"
   ]
  },
  {
   "cell_type": "code",
   "execution_count": null,
   "metadata": {},
   "outputs": [],
   "source": []
  }
 ],
 "metadata": {
  "kernelspec": {
   "display_name": "Python 3 (ipykernel)",
   "language": "python",
   "name": "python3"
  },
  "language_info": {
   "codemirror_mode": {
    "name": "ipython",
    "version": 3
   },
   "file_extension": ".py",
   "mimetype": "text/x-python",
   "name": "python",
   "nbconvert_exporter": "python",
   "pygments_lexer": "ipython3",
   "version": "3.12.2"
  }
 },
 "nbformat": 4,
 "nbformat_minor": 4
}
